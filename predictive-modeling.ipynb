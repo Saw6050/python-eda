{
 "cells": [
  {
   "cell_type": "markdown",
   "id": "3b8e8349-e4c5-4b14-b70f-2f51487afce7",
   "metadata": {},
   "source": [
    "The above code uses the Random Forest Classifier to predict employee turnover, which is a binary classification problem. You can also try different classifiers like Logistic Regression, Decision Tree, etc. The code uses the train_test_split function to split the data into training and testing sets. The model is trained on the training data, and then its predictions are compared to the actual values in the test data to calculate the accuracy. You can also use other evaluation metric like f1_score, precision, recall, AUC_ROC, etc. It also prints the confusion matrix which is a good evaluation metric for binary classification problem."
   ]
  },
  {
   "cell_type": "code",
   "execution_count": null,
   "id": "c5dc74ff-db87-40b6-935a-c587e60be0c2",
   "metadata": {},
   "outputs": [],
   "source": [
    "import pandas as pd\n",
    "import numpy as np\n",
    "import seaborn as sns\n",
    "import matplotlib.pyplot as plt\n",
    "from sklearn.model_selection import train_test_split\n",
    "from sklearn.ensemble import RandomForestClassifier\n",
    "from sklearn.linear_model import LogisticRegression\n",
    "from sklearn.tree import DecisionTreeClassifier\n",
    "from sklearn.metrics import accuracy_score, confusion_matrix, f1_score, precision_score, recall_score, roc_auc_score\n",
    "\n",
    "# Load the data\n",
    "data = pd.read_csv('HRDataset_v14.csv')\n",
    "\n",
    "# Data Cleaning\n",
    "data = data.dropna()\n",
    "data = data.drop_duplicates()\n",
    "\n",
    "# EDA\n",
    "data.describe()\n",
    "data.info()\n",
    "data.isna().sum()\n",
    "\n",
    "# Define the target variable (employee turnover)\n",
    "target = data['status']\n",
    "\n",
    "# Define the features (all columns except the target variable)\n",
    "features = data.drop(columns=['status'])\n",
    "\n",
    "# Split the data into training and testing sets\n",
    "X_train, X_test, y_train, y_test = train_test_split(features, target, test_size=0.2)\n",
    "\n",
    "# Initialize the model\n",
    "model_rf = RandomForestClassifier(n_estimators=100)\n",
    "model_lr = LogisticRegression()\n",
    "model_dt = DecisionTreeClassifier()\n",
    "\n",
    "# Train the model on the training data\n",
    "model_rf.fit(X_train, y_train)\n",
    "model_lr.fit(X_train, y_train)\n",
    "model_dt.fit(X_train, y_train)\n",
    "\n",
    "# Make predictions on the test data\n",
    "y_pred_rf = model_rf.predict(X_test)\n",
    "y_pred_lr = model_lr.predict(X_test)\n",
    "y_pred_dt = model_dt.predict(X_test)\n",
    "\n",
    "# Calculate the accuracy of the model\n",
    "accuracy_rf = accuracy_score(y_test, y_pred_rf)\n",
    "accuracy_lr = accuracy_score(y_test, y_pred_lr)\n",
    "accuracy_dt = accuracy_score(y_test, y_pred_dt)\n",
    "print(\"Accuracy of Random Forest: \", accuracy_rf)\n",
    "print(\"Accuracy of Logistic Regression: \", accuracy_lr)\n",
    "print(\"Accuracy of Decision Tree: \", accuracy_dt)\n",
    "\n",
    "# Calculate other Evaluation Metrics\n",
    "f1_rf = f1_score(y_test, y_pred_rf)\n",
    "f1_lr = f1_score(y_test, y_pred_lr)\n",
    "f1_dt = f1_score(y_test, y_pred_dt)\n",
    "print(\"F1 score of Random Forest: \", f1_rf)\n",
    "print(\"F1 score of Logistic Regression: \", f1_lr)\n",
    "print(\"F1 score of Decision Tree: \", f1_dt)\n",
    "\n",
    "precision_rf = precision_score(y_test, y_pred_rf)\n",
    "precision_lr = precision_score(y_test, y_pred_lr)\n",
    "precision\n"
   ]
  }
 ],
 "metadata": {
  "kernelspec": {
   "display_name": "Python 3 (ipykernel)",
   "language": "python",
   "name": "python3"
  },
  "language_info": {
   "codemirror_mode": {
    "name": "ipython",
    "version": 3
   },
   "file_extension": ".py",
   "mimetype": "text/x-python",
   "name": "python",
   "nbconvert_exporter": "python",
   "pygments_lexer": "ipython3",
   "version": "3.9.7"
  }
 },
 "nbformat": 4,
 "nbformat_minor": 5
}
